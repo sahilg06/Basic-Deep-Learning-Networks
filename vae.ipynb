{
  "nbformat": 4,
  "nbformat_minor": 0,
  "metadata": {
    "colab": {
      "name": "vae.ipynb",
      "provenance": []
    },
    "kernelspec": {
      "name": "python3",
      "display_name": "Python 3"
    }
  },
  "cells": [
    {
      "cell_type": "code",
      "metadata": {
        "id": "rWqqJGQC9kxg"
      },
      "source": [
        "from __future__ import print_function\n",
        "import argparse\n",
        "import torch\n",
        "import torch.utils.data\n",
        "from torch import nn, optim\n",
        "from torch.nn import functional as F\n",
        "from torchvision import datasets, transforms\n",
        "from PIL.Image import LANCZOS\n",
        "from torchvision.utils import save_image\n",
        "import matplotlib.pyplot as plt\n",
        "import numpy as np"
      ],
      "execution_count": null,
      "outputs": []
    },
    {
      "cell_type": "code",
      "metadata": {
        "id": "7xwKcWdNDGrp"
      },
      "source": [
        "# Check Device configuration\n",
        "device = torch.device('cuda' if torch.cuda.is_available() else 'cpu')\n",
        "\n",
        "# Define Hyper-parameters \n",
        "num_epochs = 15\n",
        "batch_size = 100\n",
        "learning_rate = 0.001"
      ],
      "execution_count": null,
      "outputs": []
    },
    {
      "cell_type": "code",
      "metadata": {
        "id": "Klelw2CQDMGE"
      },
      "source": [
        "# Mnist dataset\n",
        "train_dataset = datasets.MNIST(root='../../data', \n",
        "                                           train=True, \n",
        "                                           transform=transforms.Compose([\n",
        "                                                    transforms.ToTensor()\n",
        "                                           ]),\n",
        "                                           download=True)\n",
        "  \n",
        "\n",
        "\n",
        "test_dataset = datasets.MNIST(root='../../data', \n",
        "                                            train=False, \n",
        "                                            transform=transforms.Compose([\n",
        "                                                      transforms.ToTensor()\n",
        "                                            ]),\n",
        "                                            download=True)\n",
        "\n",
        "# Data loader\n",
        "train_loader = torch.utils.data.DataLoader(dataset=train_dataset, \n",
        "                                           batch_size=batch_size, \n",
        "                                           shuffle=True)\n",
        "\n",
        "test_loader = torch.utils.data.DataLoader(dataset=test_dataset, \n",
        "                                          batch_size=batch_size, \n",
        "                                          shuffle=False)\n"
      ],
      "execution_count": null,
      "outputs": []
    },
    {
      "cell_type": "code",
      "metadata": {
        "id": "Q0YAsECoDOwT"
      },
      "source": [
        "class Flatten(nn.Module):\n",
        "    def forward(self, input):\n",
        "        return input.view(input.size(0), -1)\n",
        "\n",
        "class UnFlatten(nn.Module):\n",
        "    def forward(self, input, size=32*32):\n",
        "        return input.view(input.size(0), size, 1, 1)\n",
        "\n",
        "class VAE(nn.Module):\n",
        "    def __init__(self, image_channels=1, h_dim=200, z_dim=32, n_hidden=100):\n",
        "        super(VAE, self).__init__()\n",
        "        self.encoder = self.net = nn.Sequential(\n",
        "            nn.Linear(28*28, n_hidden),\n",
        "            nn.ReLU(),\n",
        "            nn.Dropout(),\n",
        "            nn.Linear(n_hidden, n_hidden),\n",
        "            nn.ReLU(),\n",
        "            nn.Dropout(),\n",
        "            nn.Linear(n_hidden, h_dim)\n",
        "          )\n",
        "        \n",
        "        self.fc1 = nn.Linear(h_dim, z_dim)#32\n",
        "        self.fc2 = nn.Linear(h_dim, z_dim)#32\n",
        "        #self.fc3 = nn.Linear(z_dim, h_dim)#1024\n",
        "        \n",
        "        self.decoder = nn.Sequential(\n",
        "            nn.Linear(z_dim, h_dim),\n",
        "            nn.ReLU(),\n",
        "            nn.Dropout(),\n",
        "\n",
        "            nn.Linear(h_dim, n_hidden),\n",
        "            nn.ReLU(),\n",
        "            nn.Dropout(),\n",
        "\n",
        "            nn.Linear(n_hidden,28*28),\n",
        "            nn.Sigmoid()\n",
        "        )\n",
        "        \n",
        "    def reparameterize(self, mu, logvar):\n",
        "        std = logvar.mul(0.5).exp_()\n",
        "        #(batch,32)\n",
        "\n",
        "        # return torch.normal(mu, std)\n",
        "        # [*] is used as size can vary\n",
        "        esp = torch.randn(*mu.size()).to(device)\n",
        "        #(batch,32)\n",
        "\n",
        "        z = mu + std * esp\n",
        "        #(batch,32)\n",
        "        return z\n",
        "    \n",
        "    def bottleneck(self, h):\n",
        "        mu, logvar = self.fc1(h), self.fc2(h)\n",
        "        #(batch,32),(batch,32)\n",
        "\n",
        "        z = self.reparameterize(mu, logvar)\n",
        "        #(batch,32)\n",
        "        return z, mu, logvar\n",
        "\n",
        "    def encode(self, x):\n",
        "        h = self.encoder(x)\n",
        "        #(batch,1024)\n",
        "\n",
        "        z, mu, logvar = self.bottleneck(h)\n",
        "        #(all are (batch,32))\n",
        "\n",
        "        return z, mu, logvar\n",
        "\n",
        "    def decode(self, z):\n",
        "        #z = self.fc3(z)\n",
        "        #(batch,1024)\n",
        "\n",
        "        z = self.decoder(z)\n",
        "        #(batch,1,64,64)\n",
        "\n",
        "        return z\n",
        "\n",
        "    def forward(self, x):\n",
        "        z, mu, logvar = self.encode(x)\n",
        "        #(all are (batch,32))\n",
        "\n",
        "        z = self.decode(z)\n",
        "        #(batch,1,64,64)\n",
        "\n",
        "        return z, mu, logvar\n",
        "        #(batch,1,64,64),(batch,32),(batch,32)\n",
        "\n",
        "def binary_cross_entropy(x, y):\n",
        "\n",
        "    loss1 = nn.BCELoss(reduction='sum')\n",
        "    return loss1(x,y)\n",
        "\n",
        "\n",
        "def loss_function(recon_x, x, mu, logvar):\n",
        "    BCE = binary_cross_entropy(recon_x, x)\n",
        "\n",
        "    # 0.5 * sum(1 + log(sigma^2) - mu^2 - sigma^2)\n",
        "    KLD = -0.5 * torch.mean(1 + logvar - mu.pow(2) - logvar.exp())\n",
        "\n",
        "    return BCE + KLD\n"
      ],
      "execution_count": null,
      "outputs": []
    },
    {
      "cell_type": "code",
      "metadata": {
        "id": "nhgl8hXvYhm5"
      },
      "source": [
        "model = VAE().to(device)\n",
        "optimizer = torch.optim.Adam(model.parameters(),lr=learning_rate)"
      ],
      "execution_count": null,
      "outputs": []
    },
    {
      "cell_type": "code",
      "metadata": {
        "id": "kiXWGp4JY2oq",
        "colab": {
          "base_uri": "https://localhost:8080/",
          "height": 1000
        },
        "outputId": "61ca83d7-48cb-42ef-ad07-fbb1f7a33550"
      },
      "source": [
        "# Train the model\n",
        "a_factor=0\n",
        "total_step = len(train_loader)\n",
        "for epoch in range(num_epochs):\n",
        "    for i, (images, labels) in enumerate(train_loader):  \n",
        "        # Move tensors to the configured device\n",
        "        images = images.reshape(-1,28*28).to(device)\n",
        "        labels = labels.to(device)\n",
        "        \n",
        "        # Forward pass\n",
        "        z, mu, logvar = model(images)\n",
        "        loss = loss_function(z,images,mu,logvar)\n",
        "        BCE_loss = binary_cross_entropy(z,images)\n",
        "        # Backprpagation and optimization\n",
        "        optimizer.zero_grad()\n",
        "        loss.backward()\n",
        "        optimizer.step()\n",
        "        \n",
        "        if (i+1) % 100 == 0:\n",
        "            print ('Epoch [{}/{}], Step [{}/{}], KLD_Loss: {:.4f}, BCE_Loss: {:.4f}' \n",
        "                   .format(epoch+1, num_epochs, i+1, total_step, loss.item()-BCE_loss.item(),BCE_loss.item()))\n"
      ],
      "execution_count": null,
      "outputs": [
        {
          "output_type": "stream",
          "text": [
            "Epoch [1/15], Step [100/600], KLD_Loss: 0.2988, BCE_Loss: 22018.8672\n",
            "Epoch [1/15], Step [200/600], KLD_Loss: 0.7578, BCE_Loss: 19712.2305\n",
            "Epoch [1/15], Step [300/600], KLD_Loss: 1.3457, BCE_Loss: 19153.5234\n",
            "Epoch [1/15], Step [400/600], KLD_Loss: 2.0371, BCE_Loss: 19203.7871\n",
            "Epoch [1/15], Step [500/600], KLD_Loss: 4.1816, BCE_Loss: 17794.5410\n",
            "Epoch [1/15], Step [600/600], KLD_Loss: 5.3711, BCE_Loss: 17806.0391\n",
            "Epoch [2/15], Step [100/600], KLD_Loss: 7.8281, BCE_Loss: 18005.9199\n",
            "Epoch [2/15], Step [200/600], KLD_Loss: 8.5742, BCE_Loss: 16965.1680\n",
            "Epoch [2/15], Step [300/600], KLD_Loss: 8.2754, BCE_Loss: 16896.2812\n",
            "Epoch [2/15], Step [400/600], KLD_Loss: 9.6729, BCE_Loss: 16262.9590\n",
            "Epoch [2/15], Step [500/600], KLD_Loss: 7.5059, BCE_Loss: 16972.2402\n",
            "Epoch [2/15], Step [600/600], KLD_Loss: 10.7227, BCE_Loss: 16987.3125\n",
            "Epoch [3/15], Step [100/600], KLD_Loss: 12.0566, BCE_Loss: 16998.3730\n",
            "Epoch [3/15], Step [200/600], KLD_Loss: 8.1758, BCE_Loss: 16991.8047\n",
            "Epoch [3/15], Step [300/600], KLD_Loss: 12.7637, BCE_Loss: 16193.7031\n",
            "Epoch [3/15], Step [400/600], KLD_Loss: 12.2266, BCE_Loss: 16573.9434\n",
            "Epoch [3/15], Step [500/600], KLD_Loss: 10.4766, BCE_Loss: 16678.5488\n",
            "Epoch [3/15], Step [600/600], KLD_Loss: 12.2812, BCE_Loss: 16015.1719\n",
            "Epoch [4/15], Step [100/600], KLD_Loss: 14.4844, BCE_Loss: 16013.7842\n",
            "Epoch [4/15], Step [200/600], KLD_Loss: 9.7051, BCE_Loss: 16096.5566\n",
            "Epoch [4/15], Step [300/600], KLD_Loss: 15.6016, BCE_Loss: 16042.0020\n",
            "Epoch [4/15], Step [400/600], KLD_Loss: 15.0869, BCE_Loss: 16179.1582\n",
            "Epoch [4/15], Step [500/600], KLD_Loss: 11.1875, BCE_Loss: 16615.9570\n",
            "Epoch [4/15], Step [600/600], KLD_Loss: 10.2568, BCE_Loss: 16319.8779\n",
            "Epoch [5/15], Step [100/600], KLD_Loss: 14.3359, BCE_Loss: 15921.5381\n",
            "Epoch [5/15], Step [200/600], KLD_Loss: 11.5732, BCE_Loss: 15375.7422\n",
            "Epoch [5/15], Step [300/600], KLD_Loss: 13.1758, BCE_Loss: 15726.5049\n",
            "Epoch [5/15], Step [400/600], KLD_Loss: 12.0195, BCE_Loss: 16221.0469\n",
            "Epoch [5/15], Step [500/600], KLD_Loss: 15.7373, BCE_Loss: 16085.9805\n",
            "Epoch [5/15], Step [600/600], KLD_Loss: 14.1680, BCE_Loss: 15600.3398\n",
            "Epoch [6/15], Step [100/600], KLD_Loss: 12.1035, BCE_Loss: 15917.8857\n",
            "Epoch [6/15], Step [200/600], KLD_Loss: 13.2275, BCE_Loss: 15051.8535\n",
            "Epoch [6/15], Step [300/600], KLD_Loss: 11.0381, BCE_Loss: 15747.0967\n",
            "Epoch [6/15], Step [400/600], KLD_Loss: 20.5947, BCE_Loss: 15905.1191\n",
            "Epoch [6/15], Step [500/600], KLD_Loss: 11.9570, BCE_Loss: 14830.9150\n",
            "Epoch [6/15], Step [600/600], KLD_Loss: 13.1641, BCE_Loss: 16285.3184\n",
            "Epoch [7/15], Step [100/600], KLD_Loss: 12.0801, BCE_Loss: 15038.6699\n",
            "Epoch [7/15], Step [200/600], KLD_Loss: 12.9141, BCE_Loss: 14425.2500\n",
            "Epoch [7/15], Step [300/600], KLD_Loss: 15.7617, BCE_Loss: 14666.6387\n",
            "Epoch [7/15], Step [400/600], KLD_Loss: 11.9707, BCE_Loss: 15313.3066\n",
            "Epoch [7/15], Step [500/600], KLD_Loss: 14.4873, BCE_Loss: 15157.0938\n",
            "Epoch [7/15], Step [600/600], KLD_Loss: 12.9141, BCE_Loss: 15567.8350\n",
            "Epoch [8/15], Step [100/600], KLD_Loss: 9.9902, BCE_Loss: 15693.0830\n",
            "Epoch [8/15], Step [200/600], KLD_Loss: 12.8525, BCE_Loss: 15459.2822\n",
            "Epoch [8/15], Step [300/600], KLD_Loss: 9.9170, BCE_Loss: 15497.9355\n",
            "Epoch [8/15], Step [400/600], KLD_Loss: 11.3232, BCE_Loss: 16273.7910\n",
            "Epoch [8/15], Step [500/600], KLD_Loss: 12.4834, BCE_Loss: 16226.1025\n",
            "Epoch [8/15], Step [600/600], KLD_Loss: 13.5469, BCE_Loss: 16252.6680\n",
            "Epoch [9/15], Step [100/600], KLD_Loss: 10.2598, BCE_Loss: 15995.8467\n",
            "Epoch [9/15], Step [200/600], KLD_Loss: 11.1807, BCE_Loss: 15567.0254\n",
            "Epoch [9/15], Step [300/600], KLD_Loss: 12.8477, BCE_Loss: 14518.4014\n",
            "Epoch [9/15], Step [400/600], KLD_Loss: 16.2861, BCE_Loss: 15406.6699\n",
            "Epoch [9/15], Step [500/600], KLD_Loss: 15.3750, BCE_Loss: 14316.5488\n",
            "Epoch [9/15], Step [600/600], KLD_Loss: 11.7139, BCE_Loss: 15518.0000\n",
            "Epoch [10/15], Step [100/600], KLD_Loss: 12.3643, BCE_Loss: 14517.4951\n",
            "Epoch [10/15], Step [200/600], KLD_Loss: 12.5205, BCE_Loss: 15819.2119\n",
            "Epoch [10/15], Step [300/600], KLD_Loss: 10.2197, BCE_Loss: 15322.2109\n",
            "Epoch [10/15], Step [400/600], KLD_Loss: 14.0146, BCE_Loss: 15506.9043\n",
            "Epoch [10/15], Step [500/600], KLD_Loss: 11.9219, BCE_Loss: 15171.3701\n",
            "Epoch [10/15], Step [600/600], KLD_Loss: 13.7871, BCE_Loss: 14828.3047\n",
            "Epoch [11/15], Step [100/600], KLD_Loss: 14.1250, BCE_Loss: 15101.6758\n",
            "Epoch [11/15], Step [200/600], KLD_Loss: 10.9346, BCE_Loss: 15283.7988\n",
            "Epoch [11/15], Step [300/600], KLD_Loss: 12.9111, BCE_Loss: 14198.6963\n",
            "Epoch [11/15], Step [400/600], KLD_Loss: 15.1797, BCE_Loss: 14483.9717\n",
            "Epoch [11/15], Step [500/600], KLD_Loss: 10.8477, BCE_Loss: 15447.2275\n",
            "Epoch [11/15], Step [600/600], KLD_Loss: 11.5020, BCE_Loss: 15894.4648\n",
            "Epoch [12/15], Step [100/600], KLD_Loss: 13.5479, BCE_Loss: 15859.5420\n",
            "Epoch [12/15], Step [200/600], KLD_Loss: 10.8359, BCE_Loss: 14748.2500\n",
            "Epoch [12/15], Step [300/600], KLD_Loss: 12.1631, BCE_Loss: 15575.2607\n",
            "Epoch [12/15], Step [400/600], KLD_Loss: 12.5771, BCE_Loss: 15102.5918\n",
            "Epoch [12/15], Step [500/600], KLD_Loss: 13.4336, BCE_Loss: 15560.4248\n",
            "Epoch [12/15], Step [600/600], KLD_Loss: 13.5186, BCE_Loss: 15195.0498\n",
            "Epoch [13/15], Step [100/600], KLD_Loss: 12.9990, BCE_Loss: 14890.0518\n",
            "Epoch [13/15], Step [200/600], KLD_Loss: 13.3984, BCE_Loss: 14462.1963\n",
            "Epoch [13/15], Step [300/600], KLD_Loss: 10.6660, BCE_Loss: 16240.9492\n",
            "Epoch [13/15], Step [400/600], KLD_Loss: 11.3965, BCE_Loss: 14995.4385\n",
            "Epoch [13/15], Step [500/600], KLD_Loss: 9.2881, BCE_Loss: 15543.6631\n",
            "Epoch [13/15], Step [600/600], KLD_Loss: 10.0967, BCE_Loss: 15876.0166\n",
            "Epoch [14/15], Step [100/600], KLD_Loss: 12.9082, BCE_Loss: 15119.3105\n",
            "Epoch [14/15], Step [200/600], KLD_Loss: 9.2012, BCE_Loss: 14909.4785\n",
            "Epoch [14/15], Step [300/600], KLD_Loss: 12.9570, BCE_Loss: 14069.4121\n",
            "Epoch [14/15], Step [400/600], KLD_Loss: 12.2773, BCE_Loss: 14343.8848\n",
            "Epoch [14/15], Step [500/600], KLD_Loss: 10.0547, BCE_Loss: 15338.5420\n",
            "Epoch [14/15], Step [600/600], KLD_Loss: 14.0430, BCE_Loss: 14573.7070\n",
            "Epoch [15/15], Step [100/600], KLD_Loss: 14.4766, BCE_Loss: 15039.0889\n",
            "Epoch [15/15], Step [200/600], KLD_Loss: 9.5254, BCE_Loss: 15721.3184\n",
            "Epoch [15/15], Step [300/600], KLD_Loss: 12.5830, BCE_Loss: 15364.2637\n",
            "Epoch [15/15], Step [400/600], KLD_Loss: 13.4561, BCE_Loss: 15035.3359\n",
            "Epoch [15/15], Step [500/600], KLD_Loss: 10.3408, BCE_Loss: 15006.4082\n",
            "Epoch [15/15], Step [600/600], KLD_Loss: 11.1680, BCE_Loss: 15077.2988\n"
          ],
          "name": "stdout"
        }
      ]
    },
    {
      "cell_type": "code",
      "metadata": {
        "id": "gto0kaNZZ5rT",
        "colab": {
          "base_uri": "https://localhost:8080/",
          "height": 34
        },
        "outputId": "976e6a32-1c64-447c-d610-e687bb8f3c48"
      },
      "source": [
        "z=torch.randn((25,32)).to(device)\n",
        "rec=model.decoder(z).to('cpu').detach()\n",
        "rec[0].shape"
      ],
      "execution_count": null,
      "outputs": [
        {
          "output_type": "execute_result",
          "data": {
            "text/plain": [
              "torch.Size([784])"
            ]
          },
          "metadata": {
            "tags": []
          },
          "execution_count": 28
        }
      ]
    },
    {
      "cell_type": "code",
      "metadata": {
        "id": "BpJaxQOgeX5f",
        "colab": {
          "base_uri": "https://localhost:8080/",
          "height": 296
        },
        "outputId": "1dbe018d-d713-4459-91b0-e81e57eac9fe"
      },
      "source": [
        "cnt=0\n",
        "\n",
        "for i in range(5):\n",
        "  for j in range(5):\n",
        "    cnt+=1\n",
        "    plt.subplot(5,5,cnt)\n",
        "    plt.xticks([], [])\n",
        "    plt.yticks([], [])\n",
        "    plt.imshow(np.reshape(rec[cnt-1], [28, 28]), cmap='gray')\n",
        "    plt.axis(\"off\")\n",
        "plt.tight_layout()    \n",
        "plt.show()"
      ],
      "execution_count": null,
      "outputs": [
        {
          "output_type": "display_data",
          "data": {
            "image/png": "[encoded data removed]",
            "text/plain": [
              "<Figure size 432x288 with 25 Axes>"
            ]
          },
          "metadata": {
            "tags": []
          }
        }
      ]
    },
    {
      "cell_type": "code",
      "metadata": {
        "id": "i_Yn7rl7ejYJ"
      },
      "source": [
        ""
      ],
      "execution_count": null,
      "outputs": []
    }
  ]
}