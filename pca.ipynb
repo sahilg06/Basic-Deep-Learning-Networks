{
  "nbformat": 4,
  "nbformat_minor": 0,
  "metadata": {
    "colab": {
      "name": "pca.ipynb",
      "provenance": []
    },
    "kernelspec": {
      "name": "python3",
      "display_name": "Python 3"
    }
  },
  "cells": [
    {
      "cell_type": "code",
      "metadata": {
        "id": "vfqz_0Wijgx-"
      },
      "source": [
        "import sklearn\n",
        "from sklearn import datasets"
      ],
      "execution_count": null,
      "outputs": []
    },
    {
      "cell_type": "code",
      "metadata": {
        "id": "-Itu7P-YkOlF"
      },
      "source": [
        "d=sklearn.datasets.make_moons(shuffle=False , random_state=123)"
      ],
      "execution_count": null,
      "outputs": []
    },
    {
      "cell_type": "code",
      "metadata": {
        "id": "cnAYQd4YlNNh",
        "colab": {
          "base_uri": "https://localhost:8080/",
          "height": 101
        },
        "outputId": "dc7ae1f4-4009-4a26-d3d4-58f0289c13fb"
      },
      "source": [
        "d[1]"
      ],
      "execution_count": null,
      "outputs": [
        {
          "output_type": "execute_result",
          "data": {
            "text/plain": [
              "array([0, 0, 0, 0, 0, 0, 0, 0, 0, 0, 0, 0, 0, 0, 0, 0, 0, 0, 0, 0, 0, 0,\n",
              "       0, 0, 0, 0, 0, 0, 0, 0, 0, 0, 0, 0, 0, 0, 0, 0, 0, 0, 0, 0, 0, 0,\n",
              "       0, 0, 0, 0, 0, 0, 1, 1, 1, 1, 1, 1, 1, 1, 1, 1, 1, 1, 1, 1, 1, 1,\n",
              "       1, 1, 1, 1, 1, 1, 1, 1, 1, 1, 1, 1, 1, 1, 1, 1, 1, 1, 1, 1, 1, 1,\n",
              "       1, 1, 1, 1, 1, 1, 1, 1, 1, 1, 1, 1])"
            ]
          },
          "metadata": {
            "tags": []
          },
          "execution_count": 4
        }
      ]
    },
    {
      "cell_type": "code",
      "metadata": {
        "id": "NXhpqc1ZloI_"
      },
      "source": [
        "from scipy.spatial.distance import pdist, squareform\n",
        "from scipy import exp\n",
        "from scipy.linalg import eigh\n",
        "import numpy as np\n",
        "\n",
        "def stepwise_kpca(X, gamma, n_components):\n",
        "    \"\"\"\n",
        "    Implementation of a RBF kernel PCA.\n",
        "\n",
        "    Arguments:\n",
        "        X: A MxN dataset as NumPy array where the samples are stored as rows (M),\n",
        "           and the attributes defined as columns (N).\n",
        "        gamma: A free parameter (coefficient) for the RBF kernel.\n",
        "        n_components: The number of components to be returned.\n",
        "\n",
        "    \"\"\"\n",
        "    # Calculating the squared Euclidean distances for every pair of points\n",
        "    # in the MxN dimensional dataset.\n",
        "    sq_dists = pdist(X, 'sqeuclidean')\n",
        "    print(sq_dists)\n",
        "    # Converting the pairwise distances into a symmetric MxM matrix.\n",
        "    mat_sq_dists = squareform(sq_dists)\n",
        "\n",
        "    # Computing the MxM kernel matrix.\n",
        "    K = exp(-gamma * mat_sq_dists)\n",
        "    print(K)\n",
        "    # Centering the symmetric NxN kernel matrix.\n",
        "    N = K.shape[0]\n",
        "    one_n = np.ones((N,N)) / N\n",
        "    K = K - one_n.dot(K) - K.dot(one_n) + one_n.dot(K).dot(one_n)\n",
        "\n",
        "    # Obtaining eigenvalues in descending order with corresponding\n",
        "    # eigenvectors from the symmetric matrix.\n",
        "    eigvals, eigvecs = eigh(K)\n",
        "\n",
        "    # Obtaining the i eigenvectors that corresponds to the i highest eigenvalues.\n",
        "    X_pc = np.column_stack((eigvecs[:,-i] for i in range(1,n_components+1)))\n",
        "\n",
        "    return X_pc"
      ],
      "execution_count": null,
      "outputs": []
    },
    {
      "cell_type": "code",
      "metadata": {
        "id": "agbyqLGWxAE_"
      },
      "source": [
        "%matplotlib inline"
      ],
      "execution_count": null,
      "outputs": []
    },
    {
      "cell_type": "code",
      "metadata": {
        "id": "-uhDbj_9xjGY"
      },
      "source": [
        "X_pc = stepwise_kpca(X, gamma=15, n_components=2)\n",
        "print(X_pc)\n",
        "plt.figure(figsize=(8,6))\n",
        "plt.scatter(X_pc[y==0, 0], X_pc[y==0, 1], color='red', alpha=0.5)\n",
        "plt.scatter(X_pc[y==1, 0], X_pc[y==1, 1], color='blue', alpha=0.5)\n",
        "\n",
        "plt.title('First 2 principal components after RBF Kernel PCA')\n",
        "plt.text(-0.18, 0.18, 'gamma = 15', fontsize=12)\n",
        "plt.xlabel('PC1')\n",
        "plt.ylabel('PC2')\n",
        "plt.show()"
      ],
      "execution_count": null,
      "outputs": []
    },
    {
      "cell_type": "code",
      "metadata": {
        "id": "nHP5yq6rxpC6",
        "colab": {
          "base_uri": "https://localhost:8080/",
          "height": 404
        },
        "outputId": "80fc3da4-e76a-4d4c-9bc1-267381f27cfc"
      },
      "source": [
        "plt.figure(figsize=(8,6))\n",
        "plt.scatter(X_pc[y==0, 0], np.zeros((50)), color='red', alpha=0.5)\n",
        "plt.scatter(X_pc[y==1, 0], np.zeros((50)), color='blue', alpha=0.5)\n",
        "\n",
        "plt.title('First principal component after RBF Kernel PCA')\n",
        "plt.text(-0.17, 0.007, 'gamma = 15', fontsize=12)\n",
        "plt.xlabel('PC1')\n",
        "plt.show()"
      ],
      "execution_count": null,
      "outputs": [
        {
          "output_type": "display_data",
          "data": {
            "image/png": "[encoded data removed]",
            "text/plain": [
              "<Figure size 576x432 with 1 Axes>"
            ]
          },
          "metadata": {
            "tags": [],
            "needs_background": "light"
          }
        }
      ]
    },
    {
      "cell_type": "code",
      "metadata": {
        "id": "f3hobzJ7yFZ9",
        "colab": {
          "base_uri": "https://localhost:8080/",
          "height": 185
        },
        "outputId": "9ca22ec3-32f7-488f-e8a1-a361793e3125"
      },
      "source": [
        "X_pc[y==0, 0]"
      ],
      "execution_count": null,
      "outputs": [
        {
          "output_type": "execute_result",
          "data": {
            "text/plain": [
              "array([-0.07455287, -0.13494176, -0.0121587 , -0.05279084, -0.04514474,\n",
              "       -0.13653254, -0.13715755, -0.07190802, -0.09757123, -0.11322075,\n",
              "       -0.12935107, -0.13320861, -0.12834211, -0.08130447, -0.07877284,\n",
              "       -0.13387369, -0.12165175, -0.09971242, -0.13184362, -0.10316483,\n",
              "       -0.02128409, -0.09390656, -0.11023007, -0.11916726, -0.13699382,\n",
              "       -0.0498413 , -0.06026745, -0.13100714, -0.05741388, -0.0647807 ,\n",
              "       -0.11490455, -0.12640181, -0.10516006, -0.13543746, -0.08776328,\n",
              "       -0.0373761 , -0.0853533 , -0.11764729, -0.13620387, -0.067532  ,\n",
              "       -0.02692825, -0.0916269 , -0.02948509, -0.01998601, -0.10838756,\n",
              "       -0.13731155, -0.04213031, -0.12522054, -0.03441585, -0.12300381])"
            ]
          },
          "metadata": {
            "tags": []
          },
          "execution_count": 22
        }
      ]
    },
    {
      "cell_type": "code",
      "metadata": {
        "id": "7ZvmFeCn1JR4",
        "colab": {
          "base_uri": "https://localhost:8080/",
          "height": 1000
        },
        "outputId": "4c37457e-fad1-4ae1-9527-a33ab852b18e"
      },
      "source": [
        "sq_dists = pdist(X, 'sqeuclidean')\n",
        "for i in range(101):\n",
        "  print(sq_dists[i])"
      ],
      "execution_count": null,
      "outputs": [
        {
          "output_type": "stream",
          "text": [
            "0.004109214499327315\n",
            "0.016419972353507777\n",
            "0.036881686017869286\n",
            "0.06541027392194115\n",
            "0.10188850597866264\n",
            "0.14616648530795645\n",
            "0.19806226419516174\n",
            "0.25736259175322124\n",
            "0.3238237902163186\n",
            "0.39717275626408655\n",
            "0.4771080832617312\n",
            "0.5633012998045448\n",
            "0.6553982194773663\n",
            "0.7530203962825328\n",
            "0.8557666797556607\n",
            "0.9632148633789497\n",
            "1.074923419518329\n",
            "1.190433313755212\n",
            "1.3092698911573843\n",
            "1.4309448267379348\n",
            "1.5549581320873713\n",
            "1.6808002099332415\n",
            "1.8079539481846365\n",
            "1.9358968448566893\n",
            "2.06410315514331\n",
            "2.192046051815363\n",
            "2.319199790066758\n",
            "2.4450418679126287\n",
            "2.569055173262065\n",
            "2.690730108842615\n",
            "2.8095666862447874\n",
            "2.92507658048167\n",
            "3.03678513662105\n",
            "3.144233320244339\n",
            "3.2469796037174667\n",
            "3.344601780522633\n",
            "3.4366987001954556\n",
            "3.5228919167382684\n",
            "3.6028272437359123\n",
            "3.676176209783681\n",
            "3.7426374082467784\n",
            "3.801937735804838\n",
            "3.853833514692044\n",
            "3.8981114940213373\n",
            "3.9345897260780593\n",
            "3.9631183139821307\n",
            "3.983580027646492\n",
            "3.995890785500673\n",
            "4.0\n",
            "1.25\n",
            "1.185929780019287\n",
            "1.1221228383154942\n",
            "1.0588413712986278\n",
            "0.9963454160904927\n",
            "0.9348917819763793\n",
            "0.8747329951206259\n",
            "0.8161162608824419\n",
            "0.7592824479960623\n",
            "0.7044650987894514\n",
            "0.6518894695087841\n",
            "0.6017716046922116\n",
            "0.5543174493965136\n",
            "0.5097220029246845\n",
            "0.4681685175319703\n",
            "0.42982774540304414\n",
            "0.3948572369946539\n",
            "0.3634006936270001\n",
            "0.33558737698418756\n",
            "0.31153157795023967\n",
            "0.2913321469633394\n",
            "0.27507208781817644\n",
            "0.26281821658554994\n",
            "0.2546208870508018\n",
            "0.25051378379931216\n",
            "0.25051378379931216\n",
            "0.25462088705080177\n",
            "0.2628182165855498\n",
            "0.2750720878181764\n",
            "0.2913321469633394\n",
            "0.3115315779502396\n",
            "0.33558737698418745\n",
            "0.3634006936269998\n",
            "0.39485723699465386\n",
            "0.42982774540304397\n",
            "0.4681685175319701\n",
            "0.5097220029246843\n",
            "0.5543174493965136\n",
            "0.6017716046922114\n",
            "0.6518894695087836\n",
            "0.7044650987894511\n",
            "0.7592824479960618\n",
            "0.8161162608824417\n",
            "0.8747329951206257\n",
            "0.9348917819763792\n",
            "0.9963454160904924\n",
            "1.0588413712986275\n",
            "1.1221228383154935\n",
            "1.1859297800192867\n",
            "1.25\n",
            "0.004109214499327315\n",
            "0.016419972353507784\n"
          ],
          "name": "stdout"
        }
      ]
    },
    {
      "cell_type": "code",
      "metadata": {
        "id": "Ry1yXYsd5mA3",
        "colab": {
          "base_uri": "https://localhost:8080/",
          "height": 168
        },
        "outputId": "0891a343-1913-43c8-b994-89cd291564d7"
      },
      "source": [
        "mat_sq_dists = squareform(sq_dists)\n",
        "print(mat_sq_dists)\n",
        "K = exp(-15 * mat_sq_dists)"
      ],
      "execution_count": null,
      "outputs": [
        {
          "output_type": "stream",
          "text": [
            "[[0.         0.00410921 0.01641997 ... 1.12212284 1.18592978 1.25      ]\n",
            " [0.00410921 0.         0.00410921 ... 1.08262355 1.13827953 1.19414821]\n",
            " [0.01641997 0.00410921 0.         ... 1.05965595 1.10724506 1.15496278]\n",
            " ...\n",
            " [1.12212284 1.08262355 1.05965595 ... 0.         0.00410921 0.01641997]\n",
            " [1.18592978 1.13827953 1.10724506 ... 0.00410921 0.         0.00410921]\n",
            " [1.25       1.19414821 1.15496278 ... 0.01641997 0.00410921 0.        ]]\n"
          ],
          "name": "stdout"
        },
        {
          "output_type": "stream",
          "text": [
            "/usr/local/lib/python3.6/dist-packages/ipykernel_launcher.py:3: DeprecationWarning: scipy.exp is deprecated and will be removed in SciPy 2.0.0, use numpy.exp instead\n",
            "  This is separate from the ipykernel package so we can avoid doing imports until\n"
          ],
          "name": "stderr"
        }
      ]
    },
    {
      "cell_type": "code",
      "metadata": {
        "id": "jlIPXTdo61Zq",
        "colab": {
          "base_uri": "https://localhost:8080/",
          "height": 235
        },
        "outputId": "61b471b0-19c5-4f1e-cdfb-9a1c1f80c7c2"
      },
      "source": [
        "print(K)"
      ],
      "execution_count": null,
      "outputs": [
        {
          "output_type": "stream",
          "text": [
            "[[1.00000000e+00 9.40222981e-01 7.81688008e-01 ... 4.89805491e-08\n",
            "  1.88086926e-08 7.19413303e-09]\n",
            " [9.40222981e-01 1.00000000e+00 9.40222981e-01 ... 8.85805794e-08\n",
            "  3.84390108e-08 1.66272464e-08]\n",
            " [7.81688008e-01 9.40222981e-01 1.00000000e+00 ... 1.25014106e-07\n",
            "  6.12271001e-08 2.99288857e-08]\n",
            " ...\n",
            " [4.89805491e-08 8.85805794e-08 1.25014106e-07 ... 1.00000000e+00\n",
            "  9.40222981e-01 7.81688008e-01]\n",
            " [1.88086926e-08 3.84390108e-08 6.12271001e-08 ... 9.40222981e-01\n",
            "  1.00000000e+00 9.40222981e-01]\n",
            " [7.19413303e-09 1.66272464e-08 2.99288857e-08 ... 7.81688008e-01\n",
            "  9.40222981e-01 1.00000000e+00]]\n"
          ],
          "name": "stdout"
        }
      ]
    },
    {
      "cell_type": "code",
      "metadata": {
        "id": "5D3NiZNh7XMR"
      },
      "source": [
        ""
      ],
      "execution_count": null,
      "outputs": []
    }
  ]
}