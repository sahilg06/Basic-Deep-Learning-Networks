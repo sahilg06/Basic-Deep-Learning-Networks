{
  "nbformat": 4,
  "nbformat_minor": 0,
  "metadata": {
    "colab": {
      "name": "cifar_fc.ipynb",
      "provenance": []
    },
    "kernelspec": {
      "name": "python3",
      "display_name": "Python 3"
    },
    "widgets": {
      "application/vnd.jupyter.widget-state+json": {
        "2da0e546149f4392bb75b84a281fa174": {
          "model_module": "@jupyter-widgets/controls",
          "model_name": "HBoxModel",
          "state": {
            "_view_name": "HBoxView",
            "_dom_classes": [],
            "_model_name": "HBoxModel",
            "_view_module": "@jupyter-widgets/controls",
            "_model_module_version": "1.5.0",
            "_view_count": null,
            "_view_module_version": "1.5.0",
            "box_style": "",
            "layout": "IPY_MODEL_9a0af697a3b1460f8f7803d19a04b4ab",
            "_model_module": "@jupyter-widgets/controls",
            "children": [
              "IPY_MODEL_6d66fbe7907c4ca39772a5402fde1021",
              "IPY_MODEL_2b6871aaba1a49d98445563f9ac20d2c"
            ]
          }
        },
        "9a0af697a3b1460f8f7803d19a04b4ab": {
          "model_module": "@jupyter-widgets/base",
          "model_name": "LayoutModel",
          "state": {
            "_view_name": "LayoutView",
            "grid_template_rows": null,
            "right": null,
            "justify_content": null,
            "_view_module": "@jupyter-widgets/base",
            "overflow": null,
            "_model_module_version": "1.2.0",
            "_view_count": null,
            "flex_flow": null,
            "width": null,
            "min_width": null,
            "border": null,
            "align_items": null,
            "bottom": null,
            "_model_module": "@jupyter-widgets/base",
            "top": null,
            "grid_column": null,
            "overflow_y": null,
            "overflow_x": null,
            "grid_auto_flow": null,
            "grid_area": null,
            "grid_template_columns": null,
            "flex": null,
            "_model_name": "LayoutModel",
            "justify_items": null,
            "grid_row": null,
            "max_height": null,
            "align_content": null,
            "visibility": null,
            "align_self": null,
            "height": null,
            "min_height": null,
            "padding": null,
            "grid_auto_rows": null,
            "grid_gap": null,
            "max_width": null,
            "order": null,
            "_view_module_version": "1.2.0",
            "grid_template_areas": null,
            "object_position": null,
            "object_fit": null,
            "grid_auto_columns": null,
            "margin": null,
            "display": null,
            "left": null
          }
        },
        "6d66fbe7907c4ca39772a5402fde1021": {
          "model_module": "@jupyter-widgets/controls",
          "model_name": "IntProgressModel",
          "state": {
            "_view_name": "ProgressView",
            "style": "IPY_MODEL_ff2fe791c5134fc7bc229214643702d1",
            "_dom_classes": [],
            "description": "",
            "_model_name": "IntProgressModel",
            "bar_style": "info",
            "max": 1,
            "_view_module": "@jupyter-widgets/controls",
            "_model_module_version": "1.5.0",
            "value": 1,
            "_view_count": null,
            "_view_module_version": "1.5.0",
            "orientation": "horizontal",
            "min": 0,
            "description_tooltip": null,
            "_model_module": "@jupyter-widgets/controls",
            "layout": "IPY_MODEL_87d55dbac16a4037b4875155a7c2ed2c"
          }
        },
        "2b6871aaba1a49d98445563f9ac20d2c": {
          "model_module": "@jupyter-widgets/controls",
          "model_name": "HTMLModel",
          "state": {
            "_view_name": "HTMLView",
            "style": "IPY_MODEL_ea8b1b9cc05349289bc805889e995c3f",
            "_dom_classes": [],
            "description": "",
            "_model_name": "HTMLModel",
            "placeholder": "​",
            "_view_module": "@jupyter-widgets/controls",
            "_model_module_version": "1.5.0",
            "value": " 170500096/? [00:30&lt;00:00, 16775600.45it/s]",
            "_view_count": null,
            "_view_module_version": "1.5.0",
            "description_tooltip": null,
            "_model_module": "@jupyter-widgets/controls",
            "layout": "IPY_MODEL_897b1e59929c486eab7962e5580d2b85"
          }
        },
        "ff2fe791c5134fc7bc229214643702d1": {
          "model_module": "@jupyter-widgets/controls",
          "model_name": "ProgressStyleModel",
          "state": {
            "_view_name": "StyleView",
            "_model_name": "ProgressStyleModel",
            "description_width": "initial",
            "_view_module": "@jupyter-widgets/base",
            "_model_module_version": "1.5.0",
            "_view_count": null,
            "_view_module_version": "1.2.0",
            "bar_color": null,
            "_model_module": "@jupyter-widgets/controls"
          }
        },
        "87d55dbac16a4037b4875155a7c2ed2c": {
          "model_module": "@jupyter-widgets/base",
          "model_name": "LayoutModel",
          "state": {
            "_view_name": "LayoutView",
            "grid_template_rows": null,
            "right": null,
            "justify_content": null,
            "_view_module": "@jupyter-widgets/base",
            "overflow": null,
            "_model_module_version": "1.2.0",
            "_view_count": null,
            "flex_flow": null,
            "width": null,
            "min_width": null,
            "border": null,
            "align_items": null,
            "bottom": null,
            "_model_module": "@jupyter-widgets/base",
            "top": null,
            "grid_column": null,
            "overflow_y": null,
            "overflow_x": null,
            "grid_auto_flow": null,
            "grid_area": null,
            "grid_template_columns": null,
            "flex": null,
            "_model_name": "LayoutModel",
            "justify_items": null,
            "grid_row": null,
            "max_height": null,
            "align_content": null,
            "visibility": null,
            "align_self": null,
            "height": null,
            "min_height": null,
            "padding": null,
            "grid_auto_rows": null,
            "grid_gap": null,
            "max_width": null,
            "order": null,
            "_view_module_version": "1.2.0",
            "grid_template_areas": null,
            "object_position": null,
            "object_fit": null,
            "grid_auto_columns": null,
            "margin": null,
            "display": null,
            "left": null
          }
        },
        "ea8b1b9cc05349289bc805889e995c3f": {
          "model_module": "@jupyter-widgets/controls",
          "model_name": "DescriptionStyleModel",
          "state": {
            "_view_name": "StyleView",
            "_model_name": "DescriptionStyleModel",
            "description_width": "",
            "_view_module": "@jupyter-widgets/base",
            "_model_module_version": "1.5.0",
            "_view_count": null,
            "_view_module_version": "1.2.0",
            "_model_module": "@jupyter-widgets/controls"
          }
        },
        "897b1e59929c486eab7962e5580d2b85": {
          "model_module": "@jupyter-widgets/base",
          "model_name": "LayoutModel",
          "state": {
            "_view_name": "LayoutView",
            "grid_template_rows": null,
            "right": null,
            "justify_content": null,
            "_view_module": "@jupyter-widgets/base",
            "overflow": null,
            "_model_module_version": "1.2.0",
            "_view_count": null,
            "flex_flow": null,
            "width": null,
            "min_width": null,
            "border": null,
            "align_items": null,
            "bottom": null,
            "_model_module": "@jupyter-widgets/base",
            "top": null,
            "grid_column": null,
            "overflow_y": null,
            "overflow_x": null,
            "grid_auto_flow": null,
            "grid_area": null,
            "grid_template_columns": null,
            "flex": null,
            "_model_name": "LayoutModel",
            "justify_items": null,
            "grid_row": null,
            "max_height": null,
            "align_content": null,
            "visibility": null,
            "align_self": null,
            "height": null,
            "min_height": null,
            "padding": null,
            "grid_auto_rows": null,
            "grid_gap": null,
            "max_width": null,
            "order": null,
            "_view_module_version": "1.2.0",
            "grid_template_areas": null,
            "object_position": null,
            "object_fit": null,
            "grid_auto_columns": null,
            "margin": null,
            "display": null,
            "left": null
          }
        }
      }
    }
  },
  "cells": [
    {
      "cell_type": "code",
      "metadata": {
        "id": "CtbarCglaW5u"
      },
      "source": [
        "import torch\n",
        "import torch.nn as nn\n",
        "import torchvision\n",
        "import torchvision.transforms as transforms"
      ],
      "execution_count": null,
      "outputs": []
    },
    {
      "cell_type": "code",
      "metadata": {
        "id": "LydguEEva8Wd"
      },
      "source": [
        "transform = transforms.Compose(\n",
        "    [transforms.ToTensor(),\n",
        "     transforms.Normalize((0.5, 0.5, 0.5), (0.5, 0.5, 0.5))])"
      ],
      "execution_count": null,
      "outputs": []
    },
    {
      "cell_type": "code",
      "metadata": {
        "id": "9L18bVGabY38",
        "colab": {
          "base_uri": "https://localhost:8080/",
          "height": 100,
          "referenced_widgets": [
            "2da0e546149f4392bb75b84a281fa174",
            "9a0af697a3b1460f8f7803d19a04b4ab",
            "6d66fbe7907c4ca39772a5402fde1021",
            "2b6871aaba1a49d98445563f9ac20d2c",
            "ff2fe791c5134fc7bc229214643702d1",
            "87d55dbac16a4037b4875155a7c2ed2c",
            "ea8b1b9cc05349289bc805889e995c3f",
            "897b1e59929c486eab7962e5580d2b85"
          ]
        },
        "outputId": "38e64fe7-2dfb-47cd-f511-f876d97e1083"
      },
      "source": [
        "trainset = torchvision.datasets.CIFAR10(root='./data',train=True,download=True,transform=transform)\n",
        "\n",
        "testset = torchvision.datasets.CIFAR10(root='./data',train=False,download=True,transform=transform)\n",
        "\n",
        "trainloader = torch.utils.data.DataLoader(trainset, batch_size=128,shuffle=True)\n",
        "\n",
        "testloader = torch.utils.data.DataLoader(testset, batch_size=128,shuffle=False)\n",
        "\n"
      ],
      "execution_count": null,
      "outputs": [
        {
          "output_type": "stream",
          "text": [
            "Downloading https://www.cs.toronto.edu/~kriz/cifar-10-python.tar.gz to ./data/cifar-10-python.tar.gz\n"
          ],
          "name": "stdout"
        },
        {
          "output_type": "display_data",
          "data": {
            "application/vnd.jupyter.widget-view+json": {
              "model_id": "2da0e546149f4392bb75b84a281fa174",
              "version_minor": 0,
              "version_major": 2
            },
            "text/plain": [
              "HBox(children=(IntProgress(value=1, bar_style='info', max=1), HTML(value='')))"
            ]
          },
          "metadata": {
            "tags": []
          }
        },
        {
          "output_type": "stream",
          "text": [
            "Extracting ./data/cifar-10-python.tar.gz to ./data\n",
            "Files already downloaded and verified\n"
          ],
          "name": "stdout"
        }
      ]
    },
    {
      "cell_type": "code",
      "metadata": {
        "id": "fnreZZ4hdKur"
      },
      "source": [
        "classes = ('plane', 'car', 'bird', 'cat','deer', 'dog', 'frog', 'horse', 'ship', 'truck')\n",
        "input_size=3072\n",
        "hidden_size1=200\n",
        "hidden_size2=240\n",
        "num_classes=10\n",
        "\n",
        "class NeuralNet(nn.Module):\n",
        "    def __init__(self, input_size, hidden_size1,hidden_size2, num_classes):\n",
        "        super(NeuralNet, self).__init__()\n",
        "        self.fc1 = nn.Linear(input_size, hidden_size1) \n",
        "        self.relu = nn.ReLU()\n",
        "        self.fc2 = nn.Linear(hidden_size1, hidden_size2)  \n",
        "        self.relu = nn.ReLU()\n",
        "        self.fc3=nn.Linear(hidden_size2,num_classes)\n",
        "    \n",
        "    def forward(self, x):\n",
        "        x = x.view(-1, 3072)\n",
        "        out = self.fc1(x)\n",
        "        out = self.relu(out)\n",
        "        out = self.fc2(out)\n",
        "        out = self.relu(out)\n",
        "        out = self.fc3(out)\n",
        "        return out\n",
        "\n",
        "model = NeuralNet(input_size, hidden_size1,hidden_size2, num_classes)\n"
      ],
      "execution_count": null,
      "outputs": []
    },
    {
      "cell_type": "code",
      "metadata": {
        "id": "nFlyLE3ThF7I",
        "colab": {
          "base_uri": "https://localhost:8080/",
          "height": 1000
        },
        "outputId": "9f6a3a4c-f5f4-4783-9375-d1c6fdaf5bb7"
      },
      "source": [
        "num_epochs=25\n",
        "criterion = nn.CrossEntropyLoss()\n",
        "optimizer = torch.optim.SGD(model.parameters(), lr=0.005,weight_decay=0.001)  \n",
        "\n",
        "total_step = len(trainloader)\n",
        "for epoch in range(num_epochs):\n",
        "        for i, (images, labels) in enumerate(trainloader):\n",
        "           \n",
        "        \n",
        "          # Forward pass\n",
        "          outputs = model(images)\n",
        "          loss = criterion(outputs, labels)\n",
        "            \n",
        "          # Backprpagation and optimization\n",
        "          optimizer.zero_grad()\n",
        "          loss.backward()\n",
        "          optimizer.step()\n",
        "            \n",
        "          if (i+1) % 128 == 0:\n",
        "\n",
        "            print ('Epoch [{}/{}], Step [{}/{}], Loss: {:.4f}' .format(epoch+1, num_epochs, i+1, total_step, loss.item()))\n"
      ],
      "execution_count": null,
      "outputs": [
        {
          "output_type": "stream",
          "text": [
            "Epoch [1/25], Step [128/391], Loss: 1.8678\n",
            "Epoch [1/25], Step [256/391], Loss: 1.7067\n",
            "Epoch [1/25], Step [384/391], Loss: 1.7230\n",
            "Epoch [2/25], Step [128/391], Loss: 1.8282\n",
            "Epoch [2/25], Step [256/391], Loss: 1.7706\n",
            "Epoch [2/25], Step [384/391], Loss: 1.6521\n",
            "Epoch [3/25], Step [128/391], Loss: 1.5646\n",
            "Epoch [3/25], Step [256/391], Loss: 1.7919\n",
            "Epoch [3/25], Step [384/391], Loss: 1.7823\n",
            "Epoch [4/25], Step [128/391], Loss: 1.7802\n",
            "Epoch [4/25], Step [256/391], Loss: 1.6930\n",
            "Epoch [4/25], Step [384/391], Loss: 1.6599\n",
            "Epoch [5/25], Step [128/391], Loss: 1.5779\n",
            "Epoch [5/25], Step [256/391], Loss: 1.5305\n",
            "Epoch [5/25], Step [384/391], Loss: 1.6694\n",
            "Epoch [6/25], Step [128/391], Loss: 1.6063\n",
            "Epoch [6/25], Step [256/391], Loss: 1.5477\n",
            "Epoch [6/25], Step [384/391], Loss: 1.4732\n",
            "Epoch [7/25], Step [128/391], Loss: 1.7112\n",
            "Epoch [7/25], Step [256/391], Loss: 1.5785\n",
            "Epoch [7/25], Step [384/391], Loss: 1.6958\n",
            "Epoch [8/25], Step [128/391], Loss: 1.8340\n",
            "Epoch [8/25], Step [256/391], Loss: 1.3286\n",
            "Epoch [8/25], Step [384/391], Loss: 1.7175\n",
            "Epoch [9/25], Step [128/391], Loss: 1.6751\n",
            "Epoch [9/25], Step [256/391], Loss: 1.4165\n",
            "Epoch [9/25], Step [384/391], Loss: 1.5014\n",
            "Epoch [10/25], Step [128/391], Loss: 1.7126\n",
            "Epoch [10/25], Step [256/391], Loss: 1.6567\n",
            "Epoch [10/25], Step [384/391], Loss: 1.4219\n",
            "Epoch [11/25], Step [128/391], Loss: 1.4986\n",
            "Epoch [11/25], Step [256/391], Loss: 1.4820\n",
            "Epoch [11/25], Step [384/391], Loss: 1.6917\n",
            "Epoch [12/25], Step [128/391], Loss: 1.6894\n",
            "Epoch [12/25], Step [256/391], Loss: 1.5563\n",
            "Epoch [12/25], Step [384/391], Loss: 1.5244\n",
            "Epoch [13/25], Step [128/391], Loss: 1.5228\n",
            "Epoch [13/25], Step [256/391], Loss: 1.4305\n",
            "Epoch [13/25], Step [384/391], Loss: 1.6015\n",
            "Epoch [14/25], Step [128/391], Loss: 1.5821\n",
            "Epoch [14/25], Step [256/391], Loss: 1.4242\n",
            "Epoch [14/25], Step [384/391], Loss: 1.5123\n",
            "Epoch [15/25], Step [128/391], Loss: 1.4483\n",
            "Epoch [15/25], Step [256/391], Loss: 1.3909\n",
            "Epoch [15/25], Step [384/391], Loss: 1.5346\n",
            "Epoch [16/25], Step [128/391], Loss: 1.5074\n",
            "Epoch [16/25], Step [256/391], Loss: 1.4932\n",
            "Epoch [16/25], Step [384/391], Loss: 1.4905\n",
            "Epoch [17/25], Step [128/391], Loss: 1.4899\n",
            "Epoch [17/25], Step [256/391], Loss: 1.4812\n",
            "Epoch [17/25], Step [384/391], Loss: 1.4448\n",
            "Epoch [18/25], Step [128/391], Loss: 1.4254\n",
            "Epoch [18/25], Step [256/391], Loss: 1.5455\n",
            "Epoch [18/25], Step [384/391], Loss: 1.5551\n",
            "Epoch [19/25], Step [128/391], Loss: 1.4464\n",
            "Epoch [19/25], Step [256/391], Loss: 1.3834\n",
            "Epoch [19/25], Step [384/391], Loss: 1.4891\n",
            "Epoch [20/25], Step [128/391], Loss: 1.3573\n",
            "Epoch [20/25], Step [256/391], Loss: 1.3773\n",
            "Epoch [20/25], Step [384/391], Loss: 1.4916\n",
            "Epoch [21/25], Step [128/391], Loss: 1.2512\n",
            "Epoch [21/25], Step [256/391], Loss: 1.2465\n",
            "Epoch [21/25], Step [384/391], Loss: 1.4011\n",
            "Epoch [22/25], Step [128/391], Loss: 1.3478\n",
            "Epoch [22/25], Step [256/391], Loss: 1.4663\n",
            "Epoch [22/25], Step [384/391], Loss: 1.2977\n",
            "Epoch [23/25], Step [128/391], Loss: 1.3634\n",
            "Epoch [23/25], Step [256/391], Loss: 1.3461\n",
            "Epoch [23/25], Step [384/391], Loss: 1.4881\n",
            "Epoch [24/25], Step [128/391], Loss: 1.4052\n",
            "Epoch [24/25], Step [256/391], Loss: 1.1816\n",
            "Epoch [24/25], Step [384/391], Loss: 1.5125\n",
            "Epoch [25/25], Step [128/391], Loss: 1.2856\n",
            "Epoch [25/25], Step [256/391], Loss: 1.4113\n",
            "Epoch [25/25], Step [384/391], Loss: 1.4473\n"
          ],
          "name": "stdout"
        }
      ]
    },
    {
      "cell_type": "code",
      "metadata": {
        "id": "Vurp8s3WihEA",
        "colab": {
          "base_uri": "https://localhost:8080/",
          "height": 34
        },
        "outputId": "b40c4ade-fb6a-437e-ad25-fe0ae9c195e3"
      },
      "source": [
        "print(images.shape)"
      ],
      "execution_count": null,
      "outputs": [
        {
          "output_type": "stream",
          "text": [
            "torch.Size([80, 3, 32, 32])\n"
          ],
          "name": "stdout"
        }
      ]
    },
    {
      "cell_type": "code",
      "metadata": {
        "id": "VXQSCCIqoLXj",
        "colab": {
          "base_uri": "https://localhost:8080/",
          "height": 34
        },
        "outputId": "78ff438b-c8d0-4306-ead3-149e65e96044"
      },
      "source": [
        "with torch.no_grad():\n",
        "    correct = 0\n",
        "    total = 0\n",
        "    for images, labels in testloader:\n",
        "        outputs = model(images)\n",
        "        _, predicted = torch.max(outputs.data, 1)\n",
        "        total += labels.size(0)\n",
        "        correct += (predicted == labels).sum().item()\n",
        "\n",
        "    print('Accuracy of the network on the  test images: {} %'.format(100 * correct / total))\n",
        "\n",
        "# Save the model checkpoint\n",
        "torch.save(model.state_dict(), 'model.ckpt')"
      ],
      "execution_count": null,
      "outputs": [
        {
          "output_type": "stream",
          "text": [
            "Accuracy of the network on the  test images: 50.4 %\n"
          ],
          "name": "stdout"
        }
      ]
    },
    {
      "cell_type": "code",
      "metadata": {
        "id": "-29juCsB1hML",
        "colab": {
          "base_uri": "https://localhost:8080/",
          "height": 34
        },
        "outputId": "986dc788-d199-4736-80e6-2ba13e6cae91"
      },
      "source": [
        "with torch.no_grad():\n",
        "    correct = 0\n",
        "    total = 0\n",
        "    for images, labels in trainloader:\n",
        "        outputs = model(images)\n",
        "        _, predicted = torch.max(outputs.data, 1)\n",
        "        total += labels.size(0)\n",
        "        correct += (predicted == labels).sum().item()\n",
        "\n",
        "    print('Accuracy of the network on the  train images: {} %'.format(100 * correct / total))\n",
        "\n",
        "# Save the model checkpoint\n",
        "torch.save(model.state_dict(), 'model.ckpt')"
      ],
      "execution_count": null,
      "outputs": [
        {
          "output_type": "stream",
          "text": [
            "Accuracy of the network on the  train images: 30.604 %\n"
          ],
          "name": "stdout"
        }
      ]
    },
    {
      "cell_type": "code",
      "metadata": {
        "id": "XwzF9DgH3Ly4",
        "colab": {
          "base_uri": "https://localhost:8080/",
          "height": 187
        },
        "outputId": "65010657-d6fd-4894-9d7f-7518bae89bb0"
      },
      "source": [
        "class_correct = list(0. for i in range(10))\n",
        "class_total = list(0. for i in range(10))\n",
        "with torch.no_grad():\n",
        "    for data in testloader:\n",
        "        images, labels = data\n",
        "        outputs = model(images)\n",
        "        _, predicted = torch.max(outputs, 1)\n",
        "        c = (predicted == labels).squeeze()\n",
        "        for i in range(4):\n",
        "            label = labels[i]\n",
        "            class_correct[label] += c[i].item()\n",
        "            class_total[label] += 1\n",
        "\n",
        "\n",
        "for i in range(10):\n",
        "    print('Accuracy of %5s : %2d %%' % (\n",
        "        classes[i], 100 * class_correct[i] / class_total[i]))"
      ],
      "execution_count": null,
      "outputs": [
        {
          "output_type": "stream",
          "text": [
            "Accuracy of plane : 34 %\n",
            "Accuracy of   car : 71 %\n",
            "Accuracy of  bird : 39 %\n",
            "Accuracy of   cat : 14 %\n",
            "Accuracy of  deer : 33 %\n",
            "Accuracy of   dog : 45 %\n",
            "Accuracy of  frog : 50 %\n",
            "Accuracy of horse : 68 %\n",
            "Accuracy of  ship : 71 %\n",
            "Accuracy of truck : 43 %\n"
          ],
          "name": "stdout"
        }
      ]
    },
    {
      "cell_type": "code",
      "metadata": {
        "id": "RHZF0xV0UV9C"
      },
      "source": [
        ""
      ],
      "execution_count": null,
      "outputs": []
    }
  ]
}